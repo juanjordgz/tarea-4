{
 "cells": [
  {
   "cell_type": "code",
   "execution_count": 6,
   "metadata": {},
   "outputs": [],
   "source": [
    "#Importamos las librerias pandas, numpy y matplotlib respectivamente\n",
    "import pandas as pd\n",
    "import numpy as np\n",
    "import matplotlib.pyplot as plt"
   ]
  },
  {
   "cell_type": "code",
   "execution_count": 7,
   "metadata": {},
   "outputs": [],
   "source": [
    "#Carga desde un archivo .csv sin indice\n",
    "data= pd.read_csv('Gastos y costos 20-23.csv') "
   ]
  },
  {
   "cell_type": "code",
   "execution_count": 8,
   "metadata": {},
   "outputs": [
    {
     "data": {
      "text/html": [
       "<div>\n",
       "<style scoped>\n",
       "    .dataframe tbody tr th:only-of-type {\n",
       "        vertical-align: middle;\n",
       "    }\n",
       "\n",
       "    .dataframe tbody tr th {\n",
       "        vertical-align: top;\n",
       "    }\n",
       "\n",
       "    .dataframe thead th {\n",
       "        text-align: right;\n",
       "    }\n",
       "</style>\n",
       "<table border=\"1\" class=\"dataframe\">\n",
       "  <thead>\n",
       "    <tr style=\"text-align: right;\">\n",
       "      <th></th>\n",
       "      <th>CALOR Y CONTROL S.A DE C.V</th>\n",
       "      <th>Unnamed: 1</th>\n",
       "      <th>Unnamed: 2</th>\n",
       "      <th>Unnamed: 3</th>\n",
       "      <th>Unnamed: 4</th>\n",
       "      <th>Unnamed: 5</th>\n",
       "      <th>Unnamed: 6</th>\n",
       "      <th>Unnamed: 7</th>\n",
       "      <th>Unnamed: 8</th>\n",
       "      <th>Unnamed: 9</th>\n",
       "      <th>Unnamed: 10</th>\n",
       "      <th>Unnamed: 11</th>\n",
       "      <th>Unnamed: 12</th>\n",
       "      <th>GASTO</th>\n",
       "      <th>10,418,042</th>\n",
       "      <th>Unnamed: 15</th>\n",
       "      <th>Unnamed: 16</th>\n",
       "      <th>Unnamed: 17</th>\n",
       "      <th>Unnamed: 18</th>\n",
       "    </tr>\n",
       "  </thead>\n",
       "  <tbody>\n",
       "    <tr>\n",
       "      <th>0</th>\n",
       "      <td>DEDUCCIONES 2020</td>\n",
       "      <td>NaN</td>\n",
       "      <td>NaN</td>\n",
       "      <td>NaN</td>\n",
       "      <td>NaN</td>\n",
       "      <td>NaN</td>\n",
       "      <td>NaN</td>\n",
       "      <td>NaN</td>\n",
       "      <td>NaN</td>\n",
       "      <td>NaN</td>\n",
       "      <td>NaN</td>\n",
       "      <td>NaN</td>\n",
       "      <td>NaN</td>\n",
       "      <td>IVA</td>\n",
       "      <td>1,597,941</td>\n",
       "      <td>NaN</td>\n",
       "      <td>NaN</td>\n",
       "      <td>NaN</td>\n",
       "      <td>NaN</td>\n",
       "    </tr>\n",
       "    <tr>\n",
       "      <th>1</th>\n",
       "      <td>NaN</td>\n",
       "      <td>NaN</td>\n",
       "      <td>NaN</td>\n",
       "      <td>NaN</td>\n",
       "      <td>NaN</td>\n",
       "      <td>NaN</td>\n",
       "      <td>NaN</td>\n",
       "      <td>NaN</td>\n",
       "      <td>NaN</td>\n",
       "      <td>NaN</td>\n",
       "      <td>NaN</td>\n",
       "      <td>NaN</td>\n",
       "      <td>NaN</td>\n",
       "      <td>RET IVA</td>\n",
       "      <td>198,890</td>\n",
       "      <td>NaN</td>\n",
       "      <td>NaN</td>\n",
       "      <td>NaN</td>\n",
       "      <td>NaN</td>\n",
       "    </tr>\n",
       "    <tr>\n",
       "      <th>2</th>\n",
       "      <td>NaN</td>\n",
       "      <td>NaN</td>\n",
       "      <td>NaN</td>\n",
       "      <td>NaN</td>\n",
       "      <td>NaN</td>\n",
       "      <td>NaN</td>\n",
       "      <td>NaN</td>\n",
       "      <td>NaN</td>\n",
       "      <td>NaN</td>\n",
       "      <td>NaN</td>\n",
       "      <td>NaN</td>\n",
       "      <td>NaN</td>\n",
       "      <td>NaN</td>\n",
       "      <td>RET ISR</td>\n",
       "      <td>66,040</td>\n",
       "      <td>NaN</td>\n",
       "      <td>NaN</td>\n",
       "      <td>NaN</td>\n",
       "      <td>NaN</td>\n",
       "    </tr>\n",
       "    <tr>\n",
       "      <th>3</th>\n",
       "      <td>NaN</td>\n",
       "      <td>NaN</td>\n",
       "      <td>NaN</td>\n",
       "      <td>NaN</td>\n",
       "      <td>NaN</td>\n",
       "      <td>NaN</td>\n",
       "      <td>NaN</td>\n",
       "      <td>NaN</td>\n",
       "      <td>NaN</td>\n",
       "      <td>NaN</td>\n",
       "      <td>NaN</td>\n",
       "      <td>NaN</td>\n",
       "      <td>NaN</td>\n",
       "      <td>NaN</td>\n",
       "      <td>NaN</td>\n",
       "      <td>NaN</td>\n",
       "      <td>NaN</td>\n",
       "      <td>NaN</td>\n",
       "      <td>NaN</td>\n",
       "    </tr>\n",
       "    <tr>\n",
       "      <th>4</th>\n",
       "      <td>FECHA</td>\n",
       "      <td>FOLIO</td>\n",
       "      <td>UUID</td>\n",
       "      <td>RFC</td>\n",
       "      <td>PROVEEDOR</td>\n",
       "      <td>TIPO GASTO</td>\n",
       "      <td>GASTO</td>\n",
       "      <td>DESCRIPCION</td>\n",
       "      <td>TC</td>\n",
       "      <td>IMPORTE</td>\n",
       "      <td>IVA</td>\n",
       "      <td>RET ISR</td>\n",
       "      <td>RET IVA</td>\n",
       "      <td>TOTAL MX</td>\n",
       "      <td>TOTAL SAT</td>\n",
       "      <td>TIPO</td>\n",
       "      <td>STATUS</td>\n",
       "      <td>POLIZA</td>\n",
       "      <td>Columna1</td>\n",
       "    </tr>\n",
       "  </tbody>\n",
       "</table>\n",
       "</div>"
      ],
      "text/plain": [
       "  CALOR Y CONTROL S.A DE C.V Unnamed: 1 Unnamed: 2 Unnamed: 3 Unnamed: 4  \\\n",
       "0           DEDUCCIONES 2020        NaN        NaN        NaN        NaN   \n",
       "1                        NaN        NaN        NaN        NaN        NaN   \n",
       "2                        NaN        NaN        NaN        NaN        NaN   \n",
       "3                        NaN        NaN        NaN        NaN        NaN   \n",
       "4                      FECHA      FOLIO       UUID        RFC  PROVEEDOR   \n",
       "\n",
       "   Unnamed: 5 Unnamed: 6   Unnamed: 7 Unnamed: 8 Unnamed: 9 Unnamed: 10  \\\n",
       "0         NaN        NaN          NaN        NaN        NaN         NaN   \n",
       "1         NaN        NaN          NaN        NaN        NaN         NaN   \n",
       "2         NaN        NaN          NaN        NaN        NaN         NaN   \n",
       "3         NaN        NaN          NaN        NaN        NaN         NaN   \n",
       "4  TIPO GASTO      GASTO  DESCRIPCION         TC    IMPORTE         IVA   \n",
       "\n",
       "  Unnamed: 11 Unnamed: 12      GASTO  10,418,042 Unnamed: 15 Unnamed: 16  \\\n",
       "0         NaN         NaN        IVA   1,597,941         NaN         NaN   \n",
       "1         NaN         NaN    RET IVA     198,890         NaN         NaN   \n",
       "2         NaN         NaN    RET ISR      66,040         NaN         NaN   \n",
       "3         NaN         NaN        NaN         NaN         NaN         NaN   \n",
       "4     RET ISR     RET IVA   TOTAL MX   TOTAL SAT        TIPO      STATUS   \n",
       "\n",
       "  Unnamed: 17 Unnamed: 18  \n",
       "0         NaN         NaN  \n",
       "1         NaN         NaN  \n",
       "2         NaN         NaN  \n",
       "3         NaN         NaN  \n",
       "4      POLIZA    Columna1  "
      ]
     },
     "execution_count": 8,
     "metadata": {},
     "output_type": "execute_result"
    }
   ],
   "source": [
    "#Verificamos información del DataFrame\n",
    "#data.info()\n",
    "data.head()"
   ]
  },
  {
   "cell_type": "code",
   "execution_count": 9,
   "metadata": {},
   "outputs": [
    {
     "name": "stdout",
     "output_type": "stream",
     "text": [
      "<class 'pandas.core.frame.DataFrame'>\n",
      "RangeIndex: 3347 entries, 0 to 3346\n",
      "Data columns (total 19 columns):\n",
      " #   Column                      Non-Null Count  Dtype \n",
      "---  ------                      --------------  ----- \n",
      " 0   CALOR Y CONTROL S.A DE C.V  3344 non-null   object\n",
      " 1   Unnamed: 1                  3154 non-null   object\n",
      " 2   Unnamed: 2                  3343 non-null   object\n",
      " 3   Unnamed: 3                  3343 non-null   object\n",
      " 4   Unnamed: 4                  3343 non-null   object\n",
      " 5   Unnamed: 5                  3343 non-null   object\n",
      " 6   Unnamed: 6                  841 non-null    object\n",
      " 7   Unnamed: 7                  3343 non-null   object\n",
      " 8   Unnamed: 8                  2952 non-null   object\n",
      " 9   Unnamed: 9                  3309 non-null   object\n",
      " 10  Unnamed: 10                 3075 non-null   object\n",
      " 11  Unnamed: 11                 3343 non-null   object\n",
      " 12  Unnamed: 12                 3343 non-null   object\n",
      " 13   GASTO                      3346 non-null   object\n",
      " 14  10,418,042                  3346 non-null   object\n",
      " 15  Unnamed: 15                 3342 non-null   object\n",
      " 16  Unnamed: 16                 3343 non-null   object\n",
      " 17  Unnamed: 17                 22 non-null     object\n",
      " 18  Unnamed: 18                 3343 non-null   object\n",
      "dtypes: object(19)\n",
      "memory usage: 496.9+ KB\n"
     ]
    }
   ],
   "source": [
    "data.info()"
   ]
  },
  {
   "cell_type": "code",
   "execution_count": 10,
   "metadata": {},
   "outputs": [],
   "source": [
    "# Ajustar maximo de filas\n",
    "pd.options.display.max_rows = None"
   ]
  },
  {
   "cell_type": "code",
   "execution_count": 11,
   "metadata": {},
   "outputs": [],
   "source": [
    "# Ajustar maximo de columnas\n",
    "pd.options.display.max_columns = None"
   ]
  },
  {
   "cell_type": "code",
   "execution_count": 12,
   "metadata": {},
   "outputs": [
    {
     "data": {
      "text/plain": [
       "CALOR Y CONTROL S.A DE C.V       3\n",
       "Unnamed: 1                     193\n",
       "Unnamed: 2                       4\n",
       "Unnamed: 3                       4\n",
       "Unnamed: 4                       4\n",
       "Unnamed: 5                       4\n",
       "Unnamed: 6                    2506\n",
       "Unnamed: 7                       4\n",
       "Unnamed: 8                     395\n",
       "Unnamed: 9                      38\n",
       "Unnamed: 10                    272\n",
       "Unnamed: 11                      4\n",
       "Unnamed: 12                      4\n",
       " GASTO                           1\n",
       "10,418,042                       1\n",
       "Unnamed: 15                      5\n",
       "Unnamed: 16                      4\n",
       "Unnamed: 17                   3325\n",
       "Unnamed: 18                      4\n",
       "dtype: int64"
      ]
     },
     "execution_count": 12,
     "metadata": {},
     "output_type": "execute_result"
    }
   ],
   "source": [
    "#Corroboramos valores nulos\n",
    "valores_nulos=data.isnull().sum()\n",
    "valores_nulos"
   ]
  },
  {
   "cell_type": "code",
   "execution_count": 13,
   "metadata": {},
   "outputs": [
    {
     "name": "stderr",
     "output_type": "stream",
     "text": [
      "C:\\Users\\gaboo\\AppData\\Local\\Temp\\ipykernel_26364\\2690472550.py:2: FutureWarning: DataFrame.fillna with 'method' is deprecated and will raise in a future version. Use obj.ffill() or obj.bfill() instead.\n",
      "  data1 =data.fillna(method=\"ffill\")\n"
     ]
    }
   ],
   "source": [
    "#Reemplazamos valores nulos del dataframe con \"bfill\"\n",
    "data1 =data.fillna(method=\"ffill\") "
   ]
  },
  {
   "cell_type": "code",
   "execution_count": 14,
   "metadata": {},
   "outputs": [
    {
     "data": {
      "text/plain": [
       "CALOR Y CONTROL S.A DE C.V    0\n",
       "Unnamed: 1                    4\n",
       "Unnamed: 2                    4\n",
       "Unnamed: 3                    4\n",
       "Unnamed: 4                    4\n",
       "Unnamed: 5                    4\n",
       "Unnamed: 6                    4\n",
       "Unnamed: 7                    4\n",
       "Unnamed: 8                    4\n",
       "Unnamed: 9                    4\n",
       "Unnamed: 10                   4\n",
       "Unnamed: 11                   4\n",
       "Unnamed: 12                   4\n",
       " GASTO                        0\n",
       "10,418,042                    0\n",
       "Unnamed: 15                   4\n",
       "Unnamed: 16                   4\n",
       "Unnamed: 17                   4\n",
       "Unnamed: 18                   4\n",
       "dtype: int64"
      ]
     },
     "execution_count": 14,
     "metadata": {},
     "output_type": "execute_result"
    }
   ],
   "source": [
    "#Corroboramos valores nulos del dataframe\n",
    "valores_nulos=data1.isnull().sum()\n",
    "valores_nulos"
   ]
  }
 ],
 "metadata": {
  "kernelspec": {
   "display_name": "Python 3",
   "language": "python",
   "name": "python3"
  },
  "language_info": {
   "codemirror_mode": {
    "name": "ipython",
    "version": 3
   },
   "file_extension": ".py",
   "mimetype": "text/x-python",
   "name": "python",
   "nbconvert_exporter": "python",
   "pygments_lexer": "ipython3",
   "version": "3.12.1"
  }
 },
 "nbformat": 4,
 "nbformat_minor": 2
}
